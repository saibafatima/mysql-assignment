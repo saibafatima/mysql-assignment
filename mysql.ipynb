{
 "cells": [
  {
   "cell_type": "code",
   "execution_count": 1,
   "id": "5cad6dbb-f09a-40c0-b0bf-52f798453c35",
   "metadata": {},
   "outputs": [
    {
     "ename": "SyntaxError",
     "evalue": "invalid syntax (2988153165.py, line 1)",
     "output_type": "error",
     "traceback": [
      "\u001b[0;36m  Cell \u001b[0;32mIn[1], line 1\u001b[0;36m\u001b[0m\n\u001b[0;31m    Q1. What is a database? Differentiate between SQL and NoSQL databases.\u001b[0m\n\u001b[0m                  ^\u001b[0m\n\u001b[0;31mSyntaxError\u001b[0m\u001b[0;31m:\u001b[0m invalid syntax\n"
     ]
    }
   ],
   "source": [
    "Q1. What is a database? Differentiate between SQL and NoSQL databases.\n",
    "\n",
    "A database is a collection of organized data that is stored in a way that allows for efficient retrieval and manipulation. There are two main types of databases: SQL (Structured Query Language) databases and NoSQL (Not Only SQL) databases.\n",
    "\n",
    "SQL Databases:\n",
    "\n",
    "Use a fixed schema to store data in tables with well-defined schemas.\n",
    "Data is stored in tables with rows and columns, similar to an Excel spreadsheet.\n",
    "Examples: MySQL, PostgreSQL, Microsoft SQL Server.\n",
    "Support for ACID (Atomicity, Consistency, Isolation, Durability) properties.\n",
    "NoSQL Databases:\n",
    "\n",
    "Use a dynamic schema to store data in a variety of formats, such as key-value, document, graph, or column-family stores.\n",
    "Data is stored in a flexible, schema-less format.\n",
    "Examples: MongoDB, Cassandra, Redis.\n",
    "Often sacrifice some of the ACID properties for higher performance and scalability."
   ]
  },
  {
   "cell_type": "code",
   "execution_count": 2,
   "id": "6aa4dab8-780b-49ba-9a9c-65c782474861",
   "metadata": {},
   "outputs": [
    {
     "ename": "SyntaxError",
     "evalue": "invalid syntax (3454653288.py, line 1)",
     "output_type": "error",
     "traceback": [
      "\u001b[0;36m  Cell \u001b[0;32mIn[2], line 1\u001b[0;36m\u001b[0m\n\u001b[0;31m    Q2. What is DDL? Explain why CREATE, DROP, ALTER, and TRUNCATE are used with an example.\u001b[0m\n\u001b[0m                   ^\u001b[0m\n\u001b[0;31mSyntaxError\u001b[0m\u001b[0;31m:\u001b[0m invalid syntax\n"
     ]
    }
   ],
   "source": [
    "Q2. What is DDL? Explain why CREATE, DROP, ALTER, and TRUNCATE are used with an example.\n",
    "\n",
    "DDL (Data Definition Language) is a set of SQL commands used to define and modify the structure of a database. The main DDL commands are:\n",
    "\n",
    "CREATE: Used to create a new database object, such as a table, index, or view.\n",
    "Example: CREATE TABLE customers (id INT, name VARCHAR(255), email VARCHAR(255));\n",
    "\n",
    "DROP: Used to delete a database object.\n",
    "Example: DROP TABLE customers;\n",
    "\n",
    "ALTER: Used to modify the structure of a database object.\n",
    "Example: ALTER TABLE customers ADD COLUMN phone VARCHAR(20);\n",
    "\n",
    "TRUNCATE: Used to delete all rows from a table, similar to DELETE, but faster and more efficient.\n",
    "Example: TRUNCATE TABLE customers;"
   ]
  },
  {
   "cell_type": "code",
   "execution_count": 3,
   "id": "c12ced1b-5f2a-4bc7-bbfd-5ba8a34c3b26",
   "metadata": {},
   "outputs": [
    {
     "ename": "SyntaxError",
     "evalue": "invalid syntax (618335499.py, line 1)",
     "output_type": "error",
     "traceback": [
      "\u001b[0;36m  Cell \u001b[0;32mIn[3], line 1\u001b[0;36m\u001b[0m\n\u001b[0;31m    Q3. What is DML? Explain INSERT, UPDATE, and DELETE with an example.\u001b[0m\n\u001b[0m                   ^\u001b[0m\n\u001b[0;31mSyntaxError\u001b[0m\u001b[0;31m:\u001b[0m invalid syntax\n"
     ]
    }
   ],
   "source": [
    "Q3. What is DML? Explain INSERT, UPDATE, and DELETE with an example.\n",
    "\n",
    "DML (Data Manipulation Language) is a set of SQL commands used to manipulate data in a database. The main DML commands are:\n",
    "\n",
    "INSERT: Used to add new rows to a table.\n",
    "Example: INSERT INTO customers (name, email) VALUES ('John Doe', 'johndoe@example.com');\n",
    "\n",
    "UPDATE: Used to modify existing rows in a table.\n",
    "Example: UPDATE customers SET email = 'jane@example.com' WHERE name = 'Jane Doe';\n",
    "\n",
    "DELETE: Used to delete rows from a table.\n",
    "Example: DELETE FROM customers WHERE name = 'John Doe';"
   ]
  },
  {
   "cell_type": "code",
   "execution_count": 4,
   "id": "aaaec584-b652-4b00-b12a-9352b4c47863",
   "metadata": {},
   "outputs": [
    {
     "ename": "SyntaxError",
     "evalue": "invalid syntax (2811283388.py, line 1)",
     "output_type": "error",
     "traceback": [
      "\u001b[0;36m  Cell \u001b[0;32mIn[4], line 1\u001b[0;36m\u001b[0m\n\u001b[0;31m    Q4. What is DQL? Explain SELECT with an example.\u001b[0m\n\u001b[0m                   ^\u001b[0m\n\u001b[0;31mSyntaxError\u001b[0m\u001b[0;31m:\u001b[0m invalid syntax\n"
     ]
    }
   ],
   "source": [
    "Q4. What is DQL? Explain SELECT with an example.\n",
    "\n",
    "DQL (Data Query Language) is a set of SQL commands used to retrieve data from a database. The main DQL command is:\n",
    "\n",
    "SELECT: Used to retrieve data from one or more tables.\n",
    "Example: SELECT * FROM customers WHERE country = 'USA';"
   ]
  },
  {
   "cell_type": "code",
   "execution_count": 5,
   "id": "c4ac0a15-b53d-4733-a44f-5c02e2c80726",
   "metadata": {},
   "outputs": [
    {
     "ename": "SyntaxError",
     "evalue": "invalid syntax (570261924.py, line 1)",
     "output_type": "error",
     "traceback": [
      "\u001b[0;36m  Cell \u001b[0;32mIn[5], line 1\u001b[0;36m\u001b[0m\n\u001b[0;31m    Q5. Explain Primary Key and Foreign Key.\u001b[0m\n\u001b[0m                ^\u001b[0m\n\u001b[0;31mSyntaxError\u001b[0m\u001b[0;31m:\u001b[0m invalid syntax\n"
     ]
    }
   ],
   "source": [
    "Q5. Explain Primary Key and Foreign Key.\n",
    "\n",
    "Primary Key (PK): A column or set of columns that uniquely identifies each row in a table. A primary key ensures that no two rows have the same value(s) in the primary key column(s).\n",
    "Example: In a customers table, the id column could be the primary key.\n",
    "\n",
    "Foreign Key (FK): A column or set of columns that references the primary key of another table. A foreign key establishes a relationship between two tables.\n",
    "Example: In an orders table, the customer_id column could be a foreign key that references the id column in the customers table."
   ]
  },
  {
   "cell_type": "code",
   "execution_count": null,
   "id": "4c156301-cde3-4075-9127-c0211e58818d",
   "metadata": {},
   "outputs": [],
   "source": []
  }
 ],
 "metadata": {
  "kernelspec": {
   "display_name": "Python 3 (ipykernel)",
   "language": "python",
   "name": "python3"
  },
  "language_info": {
   "codemirror_mode": {
    "name": "ipython",
    "version": 3
   },
   "file_extension": ".py",
   "mimetype": "text/x-python",
   "name": "python",
   "nbconvert_exporter": "python",
   "pygments_lexer": "ipython3",
   "version": "3.10.8"
  }
 },
 "nbformat": 4,
 "nbformat_minor": 5
}
